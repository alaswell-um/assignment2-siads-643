{
 "cells": [
  {
   "cell_type": "markdown",
   "id": "21fb4c81",
   "metadata": {},
   "source": [
    "# The Labor Gap in Technical Demand and the Impact of Gender\n"
   ]
  },
  {
   "cell_type": "markdown",
   "id": "d5d6511d",
   "metadata": {},
   "source": [
    "<h1>Table of Contents<span class=\"tocSkip\"></span></h1>\n",
    "<div class=\"toc\">\n",
    "    <ul class=\"toc-item\">\n",
    "        <li><span><a href=\"#Introduction\" data-toc-modified-id=\"Introduction-1\">\n",
    "            <span class=\"toc-item-num\">1&nbsp;&nbsp;</span>Introduction</a></span>\n",
    "        </li>    \n",
    "        <li><span><a href=\"#Data-Manipulation\" data-toc-modified-id=\"Data-Manipulation-2\">\n",
    "            <span class=\"toc-item-num\">2&nbsp;&nbsp;</span>Data Manipulation</a></span>\n",
    "        </li>\n",
    "        <li>\n",
    "            <span><a href=\"#Tree-Maps\" data-toc-modified-id=\"Tree-Maps-3\">\n",
    "                <span class=\"toc-item-num\">3&nbsp;&nbsp;</span>Tree Maps</a></span>\n",
    "        </li>          \n",
    "    </ul>"
   ]
  },
  {
   "cell_type": "code",
   "execution_count": 1,
   "id": "fc35cc92",
   "metadata": {},
   "outputs": [
    {
     "name": "stdout",
     "output_type": "stream",
     "text": [
      "Note: you may need to restart the kernel to use updated packages.\n"
     ]
    },
    {
     "name": "stderr",
     "output_type": "stream",
     "text": [
      "ERROR: Invalid requirement: '#': Expected package name at the start of dependency specifier\n",
      "    #\n",
      "    ^\n"
     ]
    }
   ],
   "source": [
    "%pip install -r requirements.txt # for intial use, please run this line to install the required packages"
   ]
  },
  {
   "cell_type": "code",
   "execution_count": 9,
   "id": "8f60e0f0",
   "metadata": {},
   "outputs": [],
   "source": [
    "\n",
    "# Import Dependencies\n",
    "import sys\n",
    "import os\n",
    "import pandas as pd\n",
    "import altair as alt\n",
    "from squarify import normalize_sizes, squarify\n",
    "from bokeh.plotting import figure\n",
    "from bokeh.sampledata.sample_superstore import data\n",
    "from bokeh.transform import factor_cmap\n",
    "from bokeh.io import output_notebook\n",
    "from jupyter_bokeh.widgets import BokehModel # widgets third party extension will be required\n",
    "# from statsmodels.stats.proportion import proportions_ztest\n",
    "\n",
    "\n",
    "# Add custom py file to directory to import functions\n",
    "module_path = os.path.abspath(os.path.join('.'))\n",
    "if module_path not in sys.path:\n",
    "    sys.path.append(module_path)\n",
    "# Import custom data manipulation helper functions\n",
    "from data_manipulation import get_short_names, get_format_parameters, get_df_list_final, get_bls_data_2002_to_2015, get_student_record_df\n"
   ]
  },
  {
   "cell_type": "markdown",
   "id": "12065284",
   "metadata": {},
   "source": [
    "### !!!DOCKER CONTAINER FOR REPRODUCIBILITY\n",
    "\n",
    "If you are running an incompatible operating environment, you can you use Docker Desktop to build the project in a container.\n",
    "\n",
    "Doker Files:\n",
    "    - Dockerfile.yaml\n",
    "    - docker-compose.yaml\n",
    "\n",
    "\n",
    "Steps:\n",
    "1. Install Docker Desktop on your computer\n",
    "\n",
    "2. From the project directory, run the following command in your terminal: docker-compose up -d\n",
    "\n",
    "3. Go to the log files in your docker container instance and search for the key word \"copy\". (This is reachable from Docker Desktop)\n",
    "\n",
    "4. Copy and paste the url provided by the Jupyter Notebook server logs. It should look LIKE this http://127.0.0.1:8888/tree?token=0397757e1569ed9c4b9a449e4c729de8d297c24c50a16a12.\n",
    "\n",
    "\n",
    "\n",
    "\n",
    "\n",
    "\n"
   ]
  },
  {
   "cell_type": "markdown",
   "id": "6a04bb7f",
   "metadata": {},
   "source": [
    "# Introduction"
   ]
  },
  {
   "cell_type": "markdown",
   "id": "270ec51b",
   "metadata": {},
   "source": [
    "## High Level Summary"
   ]
  },
  {
   "cell_type": "markdown",
   "id": "be5821af",
   "metadata": {},
   "source": [
    "Our project is intended to analyze the distribution of undergraduate majors at a state university compared against the national labor market, as reported by the U.S. Bureau of Labor Statistics (BLS). A recent study found that the number of bachelor’s degrees programs at 1,754 institutions across the U.S. respond dramatically to changes in labor market demand (Conzelmann, 2024). We are interested in whether this university is following with keeping up with labor market trends.\n",
    "\n",
    "Additionally, we are seeking to uncover gender disparities in technical fields. According to the United States census bureau, women make up around half the national workforce, but are incredibly underrepresented in STEM fields (Martinez, 2021). Similarly, on a national scale women make up over half of bachelor’s degree graduates, but only 38.6 % of STEM graduates (Singh, 2020). Because of this, we are interested in exploring gender disparities in occupations with high supply of students but low labor market demand."
   ]
  },
  {
   "cell_type": "markdown",
   "id": "0eea3409",
   "metadata": {},
   "source": [
    "## Objectives"
   ]
  },
  {
   "cell_type": "markdown",
   "id": "232503d1",
   "metadata": {},
   "source": [
    "By analyzing university enrollment data and demand by major, we are aiming to explore the following questions:\n",
    "\n",
    "Question 1: Is the university keeping up with the growing demand for professional workers (as opposed to vocational and entry-level workers), in respect to BLS projections?\n",
    "\n",
    "Question 2: Is the university over or under indexing the BLS National Average?\n",
    "\n",
    "Question 3: Do technical fields show gender-related disparities between students and workers? If there are, are these disparities trending downward?"
   ]
  },
  {
   "cell_type": "markdown",
   "id": "f5a2ab1c",
   "metadata": {},
   "source": [
    "# Data Manipulation"
   ]
  },
  {
   "cell_type": "code",
   "execution_count": 10,
   "id": "20dd286d",
   "metadata": {},
   "outputs": [
    {
     "data": {
      "text/html": [
       "<div>\n",
       "<style scoped>\n",
       "    .dataframe tbody tr th:only-of-type {\n",
       "        vertical-align: middle;\n",
       "    }\n",
       "\n",
       "    .dataframe tbody tr th {\n",
       "        vertical-align: top;\n",
       "    }\n",
       "\n",
       "    .dataframe thead th {\n",
       "        text-align: right;\n",
       "    }\n",
       "</style>\n",
       "<table border=\"1\" class=\"dataframe\">\n",
       "  <thead>\n",
       "    <tr style=\"text-align: right;\">\n",
       "      <th></th>\n",
       "      <th>year</th>\n",
       "      <th>l1</th>\n",
       "      <th>number_of_students_all_sum</th>\n",
       "      <th>number_of_students_men_sum</th>\n",
       "      <th>number_of_students_women_sum</th>\n",
       "      <th>number_of_students_unknown_sum</th>\n",
       "      <th>number_of_workers_all_sum</th>\n",
       "      <th>median_weekly_earnings_all_mean</th>\n",
       "      <th>number_of_workers_men_sum</th>\n",
       "      <th>median_weekly_earnings_men_mean</th>\n",
       "      <th>number_of_workers_women_sum</th>\n",
       "      <th>median_weekly_earnings_women_mean</th>\n",
       "    </tr>\n",
       "  </thead>\n",
       "  <tbody>\n",
       "    <tr>\n",
       "      <th>0</th>\n",
       "      <td>2011</td>\n",
       "      <td>Architecture and engineering occupations</td>\n",
       "      <td>1133.0</td>\n",
       "      <td>844.0</td>\n",
       "      <td>289.0</td>\n",
       "      <td>0.0</td>\n",
       "      <td>2493</td>\n",
       "      <td>753.285714</td>\n",
       "      <td>2178</td>\n",
       "      <td>739.904762</td>\n",
       "      <td>315</td>\n",
       "      <td>0.000000</td>\n",
       "    </tr>\n",
       "    <tr>\n",
       "      <th>1</th>\n",
       "      <td>2011</td>\n",
       "      <td>Arts, design, entertainment, sports, and media...</td>\n",
       "      <td>433.0</td>\n",
       "      <td>212.0</td>\n",
       "      <td>221.0</td>\n",
       "      <td>0.0</td>\n",
       "      <td>1464</td>\n",
       "      <td>446.368421</td>\n",
       "      <td>853</td>\n",
       "      <td>257.842105</td>\n",
       "      <td>613</td>\n",
       "      <td>136.578947</td>\n",
       "    </tr>\n",
       "    <tr>\n",
       "      <th>2</th>\n",
       "      <td>2011</td>\n",
       "      <td>Building and grounds cleaning and maintenance ...</td>\n",
       "      <td>0.0</td>\n",
       "      <td>0.0</td>\n",
       "      <td>0.0</td>\n",
       "      <td>0.0</td>\n",
       "      <td>3339</td>\n",
       "      <td>555.166667</td>\n",
       "      <td>2212</td>\n",
       "      <td>591.166667</td>\n",
       "      <td>1129</td>\n",
       "      <td>216.333333</td>\n",
       "    </tr>\n",
       "    <tr>\n",
       "      <th>3</th>\n",
       "      <td>2011</td>\n",
       "      <td>Business and financial operations occupations</td>\n",
       "      <td>2.0</td>\n",
       "      <td>1.0</td>\n",
       "      <td>1.0</td>\n",
       "      <td>0.0</td>\n",
       "      <td>5170</td>\n",
       "      <td>891.035714</td>\n",
       "      <td>2223</td>\n",
       "      <td>609.142857</td>\n",
       "      <td>2944</td>\n",
       "      <td>468.714286</td>\n",
       "    </tr>\n",
       "    <tr>\n",
       "      <th>4</th>\n",
       "      <td>2011</td>\n",
       "      <td>Community and social service occupations</td>\n",
       "      <td>0.0</td>\n",
       "      <td>0.0</td>\n",
       "      <td>0.0</td>\n",
       "      <td>0.0</td>\n",
       "      <td>1932</td>\n",
       "      <td>667.375000</td>\n",
       "      <td>729</td>\n",
       "      <td>342.125000</td>\n",
       "      <td>1202</td>\n",
       "      <td>386.500000</td>\n",
       "    </tr>\n",
       "  </tbody>\n",
       "</table>\n",
       "</div>"
      ],
      "text/plain": [
       "   year                                                 l1  \\\n",
       "0  2011           Architecture and engineering occupations   \n",
       "1  2011  Arts, design, entertainment, sports, and media...   \n",
       "2  2011  Building and grounds cleaning and maintenance ...   \n",
       "3  2011      Business and financial operations occupations   \n",
       "4  2011           Community and social service occupations   \n",
       "\n",
       "   number_of_students_all_sum  number_of_students_men_sum  \\\n",
       "0                      1133.0                       844.0   \n",
       "1                       433.0                       212.0   \n",
       "2                         0.0                         0.0   \n",
       "3                         2.0                         1.0   \n",
       "4                         0.0                         0.0   \n",
       "\n",
       "   number_of_students_women_sum  number_of_students_unknown_sum  \\\n",
       "0                         289.0                             0.0   \n",
       "1                         221.0                             0.0   \n",
       "2                           0.0                             0.0   \n",
       "3                           1.0                             0.0   \n",
       "4                           0.0                             0.0   \n",
       "\n",
       "   number_of_workers_all_sum  median_weekly_earnings_all_mean  \\\n",
       "0                       2493                       753.285714   \n",
       "1                       1464                       446.368421   \n",
       "2                       3339                       555.166667   \n",
       "3                       5170                       891.035714   \n",
       "4                       1932                       667.375000   \n",
       "\n",
       "   number_of_workers_men_sum  median_weekly_earnings_men_mean  \\\n",
       "0                       2178                       739.904762   \n",
       "1                        853                       257.842105   \n",
       "2                       2212                       591.166667   \n",
       "3                       2223                       609.142857   \n",
       "4                        729                       342.125000   \n",
       "\n",
       "   number_of_workers_women_sum  median_weekly_earnings_women_mean  \n",
       "0                          315                           0.000000  \n",
       "1                          613                         136.578947  \n",
       "2                         1129                         216.333333  \n",
       "3                         2944                         468.714286  \n",
       "4                         1202                         386.500000  "
      ]
     },
     "execution_count": 10,
     "metadata": {},
     "output_type": "execute_result"
    }
   ],
   "source": [
    "\n",
    "# Please refer to data_manipulation.py for data manipulation documentation.\n",
    "# Per DRY principles, because the data_manipulation.py functions were required across all analysis, \n",
    "# data manipulation functions were centralized into a single py file \n",
    "# This was to support reusability, reproducibility and readability throughout the project.\n",
    "# This insures each contributor works with the same dataset for reproducibility.\n",
    "\n",
    "df_level_list = get_df_list_final()\n",
    "df_level_list[0].head(5)"
   ]
  },
  {
   "cell_type": "markdown",
   "id": "f42cf32e",
   "metadata": {},
   "source": [
    "# Tree Maps\n",
    "\n",
    "The intent of this tree map is to visualize the hierarchical distribution of workers and students from a high level perspective as reported by the BLS and university data. The majority of hierarchical groupings consist of various categories of vocational, higher education professions, and entry level workers. We selected 2015 for analyses as it was the most current representation of the population available in our datasets."
   ]
  },
  {
   "cell_type": "markdown",
   "id": "4eefdca1",
   "metadata": {},
   "source": [
    "## Tree Map Data Manipulation"
   ]
  },
  {
   "cell_type": "code",
   "execution_count": 11,
   "id": "860b8189",
   "metadata": {},
   "outputs": [],
   "source": [
    "\n",
    "def treemap_data_manipulation(target_metric):\n",
    "    # import BLS hierarchy mapping to build treemap block levels.\n",
    "    df_occupation_level_mapping = pd.read_excel('./data/bls_cpsaat39_2011_to_2015.xlsx', sheet_name='level_mapping_l0', header=0)\n",
    "    df_occupation_level_mapping_distinct = df_occupation_level_mapping[['l4', 'l3', 'l2', 'l1']].drop_duplicates().reset_index()\n",
    "    df_occupation_level_mapping_distinct = df_occupation_level_mapping_distinct[['l4', 'l3', 'l2', 'l1']]\n",
    "    df_occupation_level_mapping_distinct\n",
    "\n",
    "    # Define the target metric to build treemap.\n",
    "    metric = target_metric # metric = 'number_of_workers_all_sum'\n",
    "    # Extract base metric exclusive of sex to be used by the get_short_names(level, metric) formatting function.\n",
    "    base_metric = metric.replace('_sum', '').replace('_women', '').replace('_men', '').replace('_all', '')\n",
    "\n",
    "    # Create level 1 and level 2 dataframes for treemap block data objects.\n",
    "    l1_grouping = df_level_list[0]\n",
    "    l2_grouping = df_level_list[1]\n",
    "\n",
    "    # Merge hiearchny mapping to level 1 block grouping.\n",
    "    l1_grouping = pd.merge(l1_grouping,\n",
    "                            df_occupation_level_mapping_distinct[['l1', 'l2']], \n",
    "                            how='left',\n",
    "                            left_on=['l1'],\n",
    "                            right_on=['l1'])\n",
    "\n",
    "\n",
    "    # Filter out the most recent year for analsyis by target metric.\n",
    "    l1_grouping = l1_grouping[l1_grouping['year'] == '2015']\n",
    "    l1_grouping = l1_grouping[['l1','l2', metric]]\n",
    "    l2_grouping = l2_grouping[l2_grouping['year'] == '2015']\n",
    "    l2_grouping = l2_grouping[['l2', metric]]\n",
    "\n",
    "    # Get short name dictionary mapper\n",
    "    short_name_l2 = get_short_names('l2', base_metric)\n",
    "    # Transform BLS long name to short name for readability in treemap visual.\n",
    "    l1_grouping['l2'] = l1_grouping['l2'].apply(lambda x: short_name_l2[x] if x in short_name_l2.keys() else x)\n",
    "    l2_grouping['l2'] = l2_grouping['l2'].apply(lambda x: short_name_l2[x] if x in short_name_l2.keys() else x)\n",
    "    # Transform BLS long name to short name for readability in treemap visual.\n",
    "    short_name_l1 = get_short_names('l1', base_metric)\n",
    "    l1_grouping['l1'] = l1_grouping['l1'].apply(lambda x: short_name_l1[x] if x in short_name_l1.keys() else x)\n",
    "\n",
    "    # Compute total metric value to calculate worker percentages by level category.\n",
    "    total = l2_grouping[metric].sum() # total seems low, validate later on\n",
    "\n",
    "    # Concat percentage of workers to level labels for visual.\n",
    "    l1_grouping['l1'] = l1_grouping.apply(lambda x: x['l1'] + ' | ' + str(int(round(x[metric]/total*100, 0))) + '%', axis=1)\n",
    "    l2_grouping['l2'] = l2_grouping.apply(lambda x: x['l2'] + ' | ' + str(int(round(x[metric]/total*100, 0))) + '%', axis=1)\n",
    "    l2_lookup = {k: k + \" | \" + v for k, v in (x.split(\" | \") for x in l2_grouping['l2'].to_list())}\n",
    "    l1_grouping['l2'] = l1_grouping.apply(lambda x: l2_lookup[x['l2']], axis=1)\n",
    "\n",
    "    # keep only records with non-zero values, otherwise treemap will throw a divide by zero error\n",
    "    l1_grouping = l1_grouping[l1_grouping[metric] > 0]\n",
    "    l2_grouping = l2_grouping[l2_grouping[metric] > 0]\n",
    "\n",
    "    return l1_grouping, l2_grouping\n"
   ]
  },
  {
   "cell_type": "code",
   "execution_count": 12,
   "id": "6c560114",
   "metadata": {},
   "outputs": [],
   "source": [
    "\n",
    "def build_project_treemap(target_metric='number_of_students_all_sum'):\n",
    "\n",
    "    # Define the target metric to build treemap.\n",
    "    metric = target_metric # metric = 'number_of_workers_all_sum'\n",
    "    # Extract base metric exclusive of sex to be used by the get_short_names(level, metric) formatting function.\n",
    "    base_metric = metric.replace('_sum', '').replace('_women', '').replace('_men', '').replace('_all', '')\n",
    "\n",
    "    l1_grouping, l2_grouping = treemap_data_manipulation(target_metric)\n",
    "\n",
    "    # The following code derived from: treemaps https://docs.bokeh.org/en/latest/docs/examples/topics/hierarchical/treemap.html\n",
    "    # Fist function builds the tree blocks required to build the treemap visual. ie. parent level 2 blocks and child level 1 blocks.\n",
    "    def treemap(df, col, x, y, dx, dy, *, N=100):\n",
    "        sub_df = df.nlargest(N, col)\n",
    "        normed = normalize_sizes(sub_df[col], dx, dy)\n",
    "        blocks = squarify(normed, x, y, dx, dy)\n",
    "        blocks_df = pd.DataFrame.from_dict(blocks).set_index(sub_df.index)\n",
    "        return sub_df.join(blocks_df, how='left').reset_index()\n",
    "\n",
    "    # Get unique level 2 labels\n",
    "    l2s = tuple(l2_grouping['l2'].unique().tolist())\n",
    "\n",
    "    # define block 2 parameters \n",
    "    x, y, w, h = 0, 0, 2000, 1125\n",
    "    blocks_by_L2 = treemap(l2_grouping, metric, x, y, w, h)\n",
    "\n",
    "    blocks_by_L2.drop(columns=['index'], inplace=True)\n",
    "\n",
    "    # define block 2 parameters select target columns need to supply def treemap function.\n",
    "    blocks_by_L2 = blocks_by_L2[['l2', metric, 'x', 'y', 'dx', 'dy']] \n",
    "\n",
    "    # Iterate through each level 2 and build level 1 treemap blocks.\n",
    "    dfs = []\n",
    "    for index, (l2, number_of_workers_all, x, y, dx, dy) in blocks_by_L2.iterrows():\n",
    "        df = l1_grouping[l1_grouping.l2==l2]    \n",
    "        # Create level 1 treemap blocks and append to added to parent block 2\n",
    "        dfs.append(treemap(df, metric, x, y, dx, dy, N=100))\n",
    "\n",
    "    # Concat level 1 blocks\n",
    "    blocks = pd.concat(dfs)\n",
    "\n",
    "    # Create Bokeh figure object\n",
    "    p = figure(width=w, height=h, tooltips=\"@l1\", toolbar_location=None,\n",
    "            x_axis_location=None, y_axis_location=None)\n",
    "    p.x_range.range_padding = p.y_range.range_padding = 0\n",
    "    p.grid.grid_line_color = None\n",
    "\n",
    "\n",
    "    # Get treemap format parameters\n",
    "    param_set = get_format_parameters(metric=base_metric, number_of_groups=len(l2_grouping))\n",
    "    block_params = param_set['block']\n",
    "    l2_params = param_set['l2']\n",
    "    l1_params = param_set['l1']\n",
    "\n",
    "    # Build block 2 ie. parent treemap graphical object \n",
    "    p.block('x', 'y', 'dx', 'dy', source=blocks, line_width=block_params['line_width'], line_color=block_params['line_color'],\n",
    "            fill_alpha=block_params['fill_alpha'],\n",
    "            fill_color=factor_cmap(\"l2\", block_params['palette'][::-1] if 'women' in metric or 'all' in metric else block_params['palette'], l2s)) # legend_field=\"l2\",  \n",
    "\n",
    "    # Apply formates from get_format_parameters() helper function block 2 parents\n",
    "    p.text('x', 'y',  x_offset=l2_params['x_offset'], y_offset=l2_params['y_offset'], text=\"l2\", source=blocks_by_L2,\n",
    "        text_font_size=l2_params['text_font_size'], text_color=l2_params['text_color'])\n",
    "\n",
    "    blocks[\"ytop\"] = blocks.y + blocks.dy\n",
    "\n",
    "    # Apply formates from get_format_parameters() helper function to block 1 children\n",
    "    p.text('x', 'ytop', x_offset=l1_params['x_offset'], y_offset=l1_params['y_offset'], text=\"l1\", source=blocks,\n",
    "        text_font_size=l1_params['text_font_size'], text_baseline=l1_params['text_baseline'],\n",
    "        text_color=l1_params['text_color'])\n",
    "\n",
    "    # function required to display bokeh plot in jupyter notebook\n",
    "    output_notebook()\n",
    "    # display() and BokehModel() required to display visual in jupyter notebook native VSCode IDE\n",
    "    handle = display(BokehModel(p))\n"
   ]
  },
  {
   "cell_type": "code",
   "execution_count": 16,
   "id": "98156fad",
   "metadata": {},
   "outputs": [
    {
     "data": {
      "text/html": [
       "    <style>\n",
       "        .bk-notebook-logo {\n",
       "            display: block;\n",
       "            width: 20px;\n",
       "            height: 20px;\n",
       "            background-image: url(data:image/png;base64,iVBORw0KGgoAAAANSUhEUgAAABQAAAAUCAYAAACNiR0NAAAABHNCSVQICAgIfAhkiAAAAAlwSFlzAAALEgAACxIB0t1+/AAAABx0RVh0U29mdHdhcmUAQWRvYmUgRmlyZXdvcmtzIENTNui8sowAAAOkSURBVDiNjZRtaJVlGMd/1/08zzln5zjP1LWcU9N0NkN8m2CYjpgQYQXqSs0I84OLIC0hkEKoPtiH3gmKoiJDU7QpLgoLjLIQCpEsNJ1vqUOdO7ppbuec5+V+rj4ctwzd8IIbbi6u+8f1539dt3A78eXC7QizUF7gyV1fD1Yqg4JWz84yffhm0qkFqBogB9rM8tZdtwVsPUhWhGcFJngGeWrPzHm5oaMmkfEg1usvLFyc8jLRqDOMru7AyC8saQr7GG7f5fvDeH7Ej8CM66nIF+8yngt6HWaKh7k49Soy9nXurCi1o3qUbS3zWfrYeQDTB/Qj6kX6Ybhw4B+bOYoLKCC9H3Nu/leUTZ1JdRWkkn2ldcCamzrcf47KKXdAJllSlxAOkRgyHsGC/zRday5Qld9DyoM4/q/rUoy/CXh3jzOu3bHUVZeU+DEn8FInkPBFlu3+nW3Nw0mk6vCDiWg8CeJaxEwuHS3+z5RgY+YBR6V1Z1nxSOfoaPa4LASWxxdNp+VWTk7+4vzaou8v8PN+xo+KY2xsw6une2frhw05CTYOmQvsEhjhWjn0bmXPjpE1+kplmmkP3suftwTubK9Vq22qKmrBhpY4jvd5afdRA3wGjFAgcnTK2s4hY0/GPNIb0nErGMCRxWOOX64Z8RAC4oCXdklmEvcL8o0BfkNK4lUg9HTl+oPlQxdNo3Mg4Nv175e/1LDGzZen30MEjRUtmXSfiTVu1kK8W4txyV6BMKlbgk3lMwYCiusNy9fVfvvwMxv8Ynl6vxoByANLTWplvuj/nF9m2+PDtt1eiHPBr1oIfhCChQMBw6Aw0UulqTKZdfVvfG7VcfIqLG9bcldL/+pdWTLxLUy8Qq38heUIjh4XlzZxzQm19lLFlr8vdQ97rjZVOLf8nclzckbcD4wxXMidpX30sFd37Fv/GtwwhzhxGVAprjbg0gCAEeIgwCZyTV2Z1REEW8O4py0wsjeloKoMr6iCY6dP92H6Vw/oTyICIthibxjm/DfN9lVz8IqtqKYLUXfoKVMVQVVJOElGjrnnUt9T9wbgp8AyYKaGlqingHZU/uG2NTZSVqwHQTWkx9hxjkpWDaCg6Ckj5qebgBVbT3V3NNXMSiWSDdGV3hrtzla7J+duwPOToIg42ChPQOQjspnSlp1V+Gjdged7+8UN5CRAV7a5EdFNwCjEaBR27b3W890TE7g24NAP/mMDXRWrGoFPQI9ls/MWO2dWFAar/xcOIImbbpA3zgAAAABJRU5ErkJggg==);\n",
       "        }\n",
       "    </style>\n",
       "    <div>\n",
       "        <a href=\"https://bokeh.org\" target=\"_blank\" class=\"bk-notebook-logo\"></a>\n",
       "        <span id=\"ebe5e3d7-969f-4ed8-bb93-d49f36658288\">Loading BokehJS ...</span>\n",
       "    </div>\n"
      ]
     },
     "metadata": {},
     "output_type": "display_data"
    },
    {
     "data": {
      "application/javascript": "'use strict';\n(function(root) {\n  function now() {\n    return new Date();\n  }\n\n  const force = true;\n\n  if (typeof root._bokeh_onload_callbacks === \"undefined\" || force === true) {\n    root._bokeh_onload_callbacks = [];\n    root._bokeh_is_loading = undefined;\n  }\n\nconst JS_MIME_TYPE = 'application/javascript';\n  const HTML_MIME_TYPE = 'text/html';\n  const EXEC_MIME_TYPE = 'application/vnd.bokehjs_exec.v0+json';\n  const CLASS_NAME = 'output_bokeh rendered_html';\n\n  /**\n   * Render data to the DOM node\n   */\n  function render(props, node) {\n    const script = document.createElement(\"script\");\n    node.appendChild(script);\n  }\n\n  /**\n   * Handle when an output is cleared or removed\n   */\n  function handleClearOutput(event, handle) {\n    function drop(id) {\n      const view = Bokeh.index.get_by_id(id)\n      if (view != null) {\n        view.model.document.clear()\n        Bokeh.index.delete(view)\n      }\n    }\n\n    const cell = handle.cell;\n\n    const id = cell.output_area._bokeh_element_id;\n    const server_id = cell.output_area._bokeh_server_id;\n\n    // Clean up Bokeh references\n    if (id != null) {\n      drop(id)\n    }\n\n    if (server_id !== undefined) {\n      // Clean up Bokeh references\n      const cmd_clean = \"from bokeh.io.state import curstate; print(curstate().uuid_to_server['\" + server_id + \"'].get_sessions()[0].document.roots[0]._id)\";\n      cell.notebook.kernel.execute(cmd_clean, {\n        iopub: {\n          output: function(msg) {\n            const id = msg.content.text.trim()\n            drop(id)\n          }\n        }\n      });\n      // Destroy server and session\n      const cmd_destroy = \"import bokeh.io.notebook as ion; ion.destroy_server('\" + server_id + \"')\";\n      cell.notebook.kernel.execute(cmd_destroy);\n    }\n  }\n\n  /**\n   * Handle when a new output is added\n   */\n  function handleAddOutput(event, handle) {\n    const output_area = handle.output_area;\n    const output = handle.output;\n\n    // limit handleAddOutput to display_data with EXEC_MIME_TYPE content only\n    if ((output.output_type != \"display_data\") || (!Object.prototype.hasOwnProperty.call(output.data, EXEC_MIME_TYPE))) {\n      return\n    }\n\n    const toinsert = output_area.element.find(\".\" + CLASS_NAME.split(' ')[0]);\n\n    if (output.metadata[EXEC_MIME_TYPE][\"id\"] !== undefined) {\n      toinsert[toinsert.length - 1].firstChild.textContent = output.data[JS_MIME_TYPE];\n      // store reference to embed id on output_area\n      output_area._bokeh_element_id = output.metadata[EXEC_MIME_TYPE][\"id\"];\n    }\n    if (output.metadata[EXEC_MIME_TYPE][\"server_id\"] !== undefined) {\n      const bk_div = document.createElement(\"div\");\n      bk_div.innerHTML = output.data[HTML_MIME_TYPE];\n      const script_attrs = bk_div.children[0].attributes;\n      for (let i = 0; i < script_attrs.length; i++) {\n        toinsert[toinsert.length - 1].firstChild.setAttribute(script_attrs[i].name, script_attrs[i].value);\n        toinsert[toinsert.length - 1].firstChild.textContent = bk_div.children[0].textContent\n      }\n      // store reference to server id on output_area\n      output_area._bokeh_server_id = output.metadata[EXEC_MIME_TYPE][\"server_id\"];\n    }\n  }\n\n  function register_renderer(events, OutputArea) {\n\n    function append_mime(data, metadata, element) {\n      // create a DOM node to render to\n      const toinsert = this.create_output_subarea(\n        metadata,\n        CLASS_NAME,\n        EXEC_MIME_TYPE\n      );\n      this.keyboard_manager.register_events(toinsert);\n      // Render to node\n      const props = {data: data, metadata: metadata[EXEC_MIME_TYPE]};\n      render(props, toinsert[toinsert.length - 1]);\n      element.append(toinsert);\n      return toinsert\n    }\n\n    /* Handle when an output is cleared or removed */\n    events.on('clear_output.CodeCell', handleClearOutput);\n    events.on('delete.Cell', handleClearOutput);\n\n    /* Handle when a new output is added */\n    events.on('output_added.OutputArea', handleAddOutput);\n\n    /**\n     * Register the mime type and append_mime function with output_area\n     */\n    OutputArea.prototype.register_mime_type(EXEC_MIME_TYPE, append_mime, {\n      /* Is output safe? */\n      safe: true,\n      /* Index of renderer in `output_area.display_order` */\n      index: 0\n    });\n  }\n\n  // register the mime type if in Jupyter Notebook environment and previously unregistered\n  if (root.Jupyter !== undefined) {\n    const events = require('base/js/events');\n    const OutputArea = require('notebook/js/outputarea').OutputArea;\n\n    if (OutputArea.prototype.mime_types().indexOf(EXEC_MIME_TYPE) == -1) {\n      register_renderer(events, OutputArea);\n    }\n  }\n  if (typeof (root._bokeh_timeout) === \"undefined\" || force === true) {\n    root._bokeh_timeout = Date.now() + 5000;\n    root._bokeh_failed_load = false;\n  }\n\n  const NB_LOAD_WARNING = {'data': {'text/html':\n     \"<div style='background-color: #fdd'>\\n\"+\n     \"<p>\\n\"+\n     \"BokehJS does not appear to have successfully loaded. If loading BokehJS from CDN, this \\n\"+\n     \"may be due to a slow or bad network connection. Possible fixes:\\n\"+\n     \"</p>\\n\"+\n     \"<ul>\\n\"+\n     \"<li>re-rerun `output_notebook()` to attempt to load from CDN again, or</li>\\n\"+\n     \"<li>use INLINE resources instead, as so:</li>\\n\"+\n     \"</ul>\\n\"+\n     \"<code>\\n\"+\n     \"from bokeh.resources import INLINE\\n\"+\n     \"output_notebook(resources=INLINE)\\n\"+\n     \"</code>\\n\"+\n     \"</div>\"}};\n\n  function display_loaded(error = null) {\n    const el = document.getElementById(\"ebe5e3d7-969f-4ed8-bb93-d49f36658288\");\n    if (el != null) {\n      const html = (() => {\n        if (typeof root.Bokeh === \"undefined\") {\n          if (error == null) {\n            return \"BokehJS is loading ...\";\n          } else {\n            return \"BokehJS failed to load.\";\n          }\n        } else {\n          const prefix = `BokehJS ${root.Bokeh.version}`;\n          if (error == null) {\n            return `${prefix} successfully loaded.`;\n          } else {\n            return `${prefix} <b>encountered errors</b> while loading and may not function as expected.`;\n          }\n        }\n      })();\n      el.innerHTML = html;\n\n      if (error != null) {\n        const wrapper = document.createElement(\"div\");\n        wrapper.style.overflow = \"auto\";\n        wrapper.style.height = \"5em\";\n        wrapper.style.resize = \"vertical\";\n        const content = document.createElement(\"div\");\n        content.style.fontFamily = \"monospace\";\n        content.style.whiteSpace = \"pre-wrap\";\n        content.style.backgroundColor = \"rgb(255, 221, 221)\";\n        content.textContent = error.stack ?? error.toString();\n        wrapper.append(content);\n        el.append(wrapper);\n      }\n    } else if (Date.now() < root._bokeh_timeout) {\n      setTimeout(() => display_loaded(error), 100);\n    }\n  }\n\n  function run_callbacks() {\n    try {\n      root._bokeh_onload_callbacks.forEach(function(callback) {\n        if (callback != null)\n          callback();\n      });\n    } finally {\n      delete root._bokeh_onload_callbacks\n    }\n    console.debug(\"Bokeh: all callbacks have finished\");\n  }\n\n  function load_libs(css_urls, js_urls, callback) {\n    if (css_urls == null) css_urls = [];\n    if (js_urls == null) js_urls = [];\n\n    root._bokeh_onload_callbacks.push(callback);\n    if (root._bokeh_is_loading > 0) {\n      console.debug(\"Bokeh: BokehJS is being loaded, scheduling callback at\", now());\n      return null;\n    }\n    if (js_urls == null || js_urls.length === 0) {\n      run_callbacks();\n      return null;\n    }\n    console.debug(\"Bokeh: BokehJS not loaded, scheduling load and callback at\", now());\n    root._bokeh_is_loading = css_urls.length + js_urls.length;\n\n    function on_load() {\n      root._bokeh_is_loading--;\n      if (root._bokeh_is_loading === 0) {\n        console.debug(\"Bokeh: all BokehJS libraries/stylesheets loaded\");\n        run_callbacks()\n      }\n    }\n\n    function on_error(url) {\n      console.error(\"failed to load \" + url);\n    }\n\n    for (let i = 0; i < css_urls.length; i++) {\n      const url = css_urls[i];\n      const element = document.createElement(\"link\");\n      element.onload = on_load;\n      element.onerror = on_error.bind(null, url);\n      element.rel = \"stylesheet\";\n      element.type = \"text/css\";\n      element.href = url;\n      console.debug(\"Bokeh: injecting link tag for BokehJS stylesheet: \", url);\n      document.body.appendChild(element);\n    }\n\n    for (let i = 0; i < js_urls.length; i++) {\n      const url = js_urls[i];\n      const element = document.createElement('script');\n      element.onload = on_load;\n      element.onerror = on_error.bind(null, url);\n      element.async = false;\n      element.src = url;\n      console.debug(\"Bokeh: injecting script tag for BokehJS library: \", url);\n      document.head.appendChild(element);\n    }\n  };\n\n  function inject_raw_css(css) {\n    const element = document.createElement(\"style\");\n    element.appendChild(document.createTextNode(css));\n    document.body.appendChild(element);\n  }\n\n  const js_urls = [\"https://cdn.bokeh.org/bokeh/release/bokeh-3.6.3.min.js\", \"https://cdn.bokeh.org/bokeh/release/bokeh-gl-3.6.3.min.js\", \"https://cdn.bokeh.org/bokeh/release/bokeh-widgets-3.6.3.min.js\", \"https://cdn.bokeh.org/bokeh/release/bokeh-tables-3.6.3.min.js\", \"https://cdn.bokeh.org/bokeh/release/bokeh-mathjax-3.6.3.min.js\"];\n  const css_urls = [];\n\n  const inline_js = [    function(Bokeh) {\n      Bokeh.set_log_level(\"info\");\n    },\nfunction(Bokeh) {\n    }\n  ];\n\n  function run_inline_js() {\n    if (root.Bokeh !== undefined || force === true) {\n      try {\n            for (let i = 0; i < inline_js.length; i++) {\n      inline_js[i].call(root, root.Bokeh);\n    }\n\n      } catch (error) {display_loaded(error);throw error;\n      }if (force === true) {\n        display_loaded();\n      }} else if (Date.now() < root._bokeh_timeout) {\n      setTimeout(run_inline_js, 100);\n    } else if (!root._bokeh_failed_load) {\n      console.log(\"Bokeh: BokehJS failed to load within specified timeout.\");\n      root._bokeh_failed_load = true;\n    } else if (force !== true) {\n      const cell = $(document.getElementById(\"ebe5e3d7-969f-4ed8-bb93-d49f36658288\")).parents('.cell').data().cell;\n      cell.output_area.append_execute_result(NB_LOAD_WARNING)\n    }\n  }\n\n  if (root._bokeh_is_loading === 0) {\n    console.debug(\"Bokeh: BokehJS loaded, going straight to plotting\");\n    run_inline_js();\n  } else {\n    load_libs(css_urls, js_urls, function() {\n      console.debug(\"Bokeh: BokehJS plotting callback run at\", now());\n      run_inline_js();\n    });\n  }\n}(window));",
      "application/vnd.bokehjs_load.v0+json": ""
     },
     "metadata": {},
     "output_type": "display_data"
    },
    {
     "data": {
      "application/vnd.jupyter.widget-view+json": {
       "model_id": "30dedf7f4a3443e996275b7286ea7481",
       "version_major": 2,
       "version_minor": 0
      },
      "text/plain": [
       "BokehModel(render_bundle={'docs_json': {'9affc76e-41fc-4862-833a-b6d74dbc6d12': {'version': '3.6.3', 'title': …"
      ]
     },
     "metadata": {},
     "output_type": "display_data"
    }
   ],
   "source": [
    "build_project_treemap(target_metric='number_of_workers_all_sum')"
   ]
  },
  {
   "cell_type": "code",
   "execution_count": 14,
   "id": "38d0cb81",
   "metadata": {},
   "outputs": [
    {
     "data": {
      "text/html": [
       "    <style>\n",
       "        .bk-notebook-logo {\n",
       "            display: block;\n",
       "            width: 20px;\n",
       "            height: 20px;\n",
       "            background-image: url(data:image/png;base64,iVBORw0KGgoAAAANSUhEUgAAABQAAAAUCAYAAACNiR0NAAAABHNCSVQICAgIfAhkiAAAAAlwSFlzAAALEgAACxIB0t1+/AAAABx0RVh0U29mdHdhcmUAQWRvYmUgRmlyZXdvcmtzIENTNui8sowAAAOkSURBVDiNjZRtaJVlGMd/1/08zzln5zjP1LWcU9N0NkN8m2CYjpgQYQXqSs0I84OLIC0hkEKoPtiH3gmKoiJDU7QpLgoLjLIQCpEsNJ1vqUOdO7ppbuec5+V+rj4ctwzd8IIbbi6u+8f1539dt3A78eXC7QizUF7gyV1fD1Yqg4JWz84yffhm0qkFqBogB9rM8tZdtwVsPUhWhGcFJngGeWrPzHm5oaMmkfEg1usvLFyc8jLRqDOMru7AyC8saQr7GG7f5fvDeH7Ej8CM66nIF+8yngt6HWaKh7k49Soy9nXurCi1o3qUbS3zWfrYeQDTB/Qj6kX6Ybhw4B+bOYoLKCC9H3Nu/leUTZ1JdRWkkn2ldcCamzrcf47KKXdAJllSlxAOkRgyHsGC/zRday5Qld9DyoM4/q/rUoy/CXh3jzOu3bHUVZeU+DEn8FInkPBFlu3+nW3Nw0mk6vCDiWg8CeJaxEwuHS3+z5RgY+YBR6V1Z1nxSOfoaPa4LASWxxdNp+VWTk7+4vzaou8v8PN+xo+KY2xsw6une2frhw05CTYOmQvsEhjhWjn0bmXPjpE1+kplmmkP3suftwTubK9Vq22qKmrBhpY4jvd5afdRA3wGjFAgcnTK2s4hY0/GPNIb0nErGMCRxWOOX64Z8RAC4oCXdklmEvcL8o0BfkNK4lUg9HTl+oPlQxdNo3Mg4Nv175e/1LDGzZen30MEjRUtmXSfiTVu1kK8W4txyV6BMKlbgk3lMwYCiusNy9fVfvvwMxv8Ynl6vxoByANLTWplvuj/nF9m2+PDtt1eiHPBr1oIfhCChQMBw6Aw0UulqTKZdfVvfG7VcfIqLG9bcldL/+pdWTLxLUy8Qq38heUIjh4XlzZxzQm19lLFlr8vdQ97rjZVOLf8nclzckbcD4wxXMidpX30sFd37Fv/GtwwhzhxGVAprjbg0gCAEeIgwCZyTV2Z1REEW8O4py0wsjeloKoMr6iCY6dP92H6Vw/oTyICIthibxjm/DfN9lVz8IqtqKYLUXfoKVMVQVVJOElGjrnnUt9T9wbgp8AyYKaGlqingHZU/uG2NTZSVqwHQTWkx9hxjkpWDaCg6Ckj5qebgBVbT3V3NNXMSiWSDdGV3hrtzla7J+duwPOToIg42ChPQOQjspnSlp1V+Gjdged7+8UN5CRAV7a5EdFNwCjEaBR27b3W890TE7g24NAP/mMDXRWrGoFPQI9ls/MWO2dWFAar/xcOIImbbpA3zgAAAABJRU5ErkJggg==);\n",
       "        }\n",
       "    </style>\n",
       "    <div>\n",
       "        <a href=\"https://bokeh.org\" target=\"_blank\" class=\"bk-notebook-logo\"></a>\n",
       "        <span id=\"fa552ab4-12c5-4910-9087-b7929fa7fde6\">Loading BokehJS ...</span>\n",
       "    </div>\n"
      ]
     },
     "metadata": {},
     "output_type": "display_data"
    },
    {
     "data": {
      "application/javascript": "'use strict';\n(function(root) {\n  function now() {\n    return new Date();\n  }\n\n  const force = true;\n\n  if (typeof root._bokeh_onload_callbacks === \"undefined\" || force === true) {\n    root._bokeh_onload_callbacks = [];\n    root._bokeh_is_loading = undefined;\n  }\n\nconst JS_MIME_TYPE = 'application/javascript';\n  const HTML_MIME_TYPE = 'text/html';\n  const EXEC_MIME_TYPE = 'application/vnd.bokehjs_exec.v0+json';\n  const CLASS_NAME = 'output_bokeh rendered_html';\n\n  /**\n   * Render data to the DOM node\n   */\n  function render(props, node) {\n    const script = document.createElement(\"script\");\n    node.appendChild(script);\n  }\n\n  /**\n   * Handle when an output is cleared or removed\n   */\n  function handleClearOutput(event, handle) {\n    function drop(id) {\n      const view = Bokeh.index.get_by_id(id)\n      if (view != null) {\n        view.model.document.clear()\n        Bokeh.index.delete(view)\n      }\n    }\n\n    const cell = handle.cell;\n\n    const id = cell.output_area._bokeh_element_id;\n    const server_id = cell.output_area._bokeh_server_id;\n\n    // Clean up Bokeh references\n    if (id != null) {\n      drop(id)\n    }\n\n    if (server_id !== undefined) {\n      // Clean up Bokeh references\n      const cmd_clean = \"from bokeh.io.state import curstate; print(curstate().uuid_to_server['\" + server_id + \"'].get_sessions()[0].document.roots[0]._id)\";\n      cell.notebook.kernel.execute(cmd_clean, {\n        iopub: {\n          output: function(msg) {\n            const id = msg.content.text.trim()\n            drop(id)\n          }\n        }\n      });\n      // Destroy server and session\n      const cmd_destroy = \"import bokeh.io.notebook as ion; ion.destroy_server('\" + server_id + \"')\";\n      cell.notebook.kernel.execute(cmd_destroy);\n    }\n  }\n\n  /**\n   * Handle when a new output is added\n   */\n  function handleAddOutput(event, handle) {\n    const output_area = handle.output_area;\n    const output = handle.output;\n\n    // limit handleAddOutput to display_data with EXEC_MIME_TYPE content only\n    if ((output.output_type != \"display_data\") || (!Object.prototype.hasOwnProperty.call(output.data, EXEC_MIME_TYPE))) {\n      return\n    }\n\n    const toinsert = output_area.element.find(\".\" + CLASS_NAME.split(' ')[0]);\n\n    if (output.metadata[EXEC_MIME_TYPE][\"id\"] !== undefined) {\n      toinsert[toinsert.length - 1].firstChild.textContent = output.data[JS_MIME_TYPE];\n      // store reference to embed id on output_area\n      output_area._bokeh_element_id = output.metadata[EXEC_MIME_TYPE][\"id\"];\n    }\n    if (output.metadata[EXEC_MIME_TYPE][\"server_id\"] !== undefined) {\n      const bk_div = document.createElement(\"div\");\n      bk_div.innerHTML = output.data[HTML_MIME_TYPE];\n      const script_attrs = bk_div.children[0].attributes;\n      for (let i = 0; i < script_attrs.length; i++) {\n        toinsert[toinsert.length - 1].firstChild.setAttribute(script_attrs[i].name, script_attrs[i].value);\n        toinsert[toinsert.length - 1].firstChild.textContent = bk_div.children[0].textContent\n      }\n      // store reference to server id on output_area\n      output_area._bokeh_server_id = output.metadata[EXEC_MIME_TYPE][\"server_id\"];\n    }\n  }\n\n  function register_renderer(events, OutputArea) {\n\n    function append_mime(data, metadata, element) {\n      // create a DOM node to render to\n      const toinsert = this.create_output_subarea(\n        metadata,\n        CLASS_NAME,\n        EXEC_MIME_TYPE\n      );\n      this.keyboard_manager.register_events(toinsert);\n      // Render to node\n      const props = {data: data, metadata: metadata[EXEC_MIME_TYPE]};\n      render(props, toinsert[toinsert.length - 1]);\n      element.append(toinsert);\n      return toinsert\n    }\n\n    /* Handle when an output is cleared or removed */\n    events.on('clear_output.CodeCell', handleClearOutput);\n    events.on('delete.Cell', handleClearOutput);\n\n    /* Handle when a new output is added */\n    events.on('output_added.OutputArea', handleAddOutput);\n\n    /**\n     * Register the mime type and append_mime function with output_area\n     */\n    OutputArea.prototype.register_mime_type(EXEC_MIME_TYPE, append_mime, {\n      /* Is output safe? */\n      safe: true,\n      /* Index of renderer in `output_area.display_order` */\n      index: 0\n    });\n  }\n\n  // register the mime type if in Jupyter Notebook environment and previously unregistered\n  if (root.Jupyter !== undefined) {\n    const events = require('base/js/events');\n    const OutputArea = require('notebook/js/outputarea').OutputArea;\n\n    if (OutputArea.prototype.mime_types().indexOf(EXEC_MIME_TYPE) == -1) {\n      register_renderer(events, OutputArea);\n    }\n  }\n  if (typeof (root._bokeh_timeout) === \"undefined\" || force === true) {\n    root._bokeh_timeout = Date.now() + 5000;\n    root._bokeh_failed_load = false;\n  }\n\n  const NB_LOAD_WARNING = {'data': {'text/html':\n     \"<div style='background-color: #fdd'>\\n\"+\n     \"<p>\\n\"+\n     \"BokehJS does not appear to have successfully loaded. If loading BokehJS from CDN, this \\n\"+\n     \"may be due to a slow or bad network connection. Possible fixes:\\n\"+\n     \"</p>\\n\"+\n     \"<ul>\\n\"+\n     \"<li>re-rerun `output_notebook()` to attempt to load from CDN again, or</li>\\n\"+\n     \"<li>use INLINE resources instead, as so:</li>\\n\"+\n     \"</ul>\\n\"+\n     \"<code>\\n\"+\n     \"from bokeh.resources import INLINE\\n\"+\n     \"output_notebook(resources=INLINE)\\n\"+\n     \"</code>\\n\"+\n     \"</div>\"}};\n\n  function display_loaded(error = null) {\n    const el = document.getElementById(\"fa552ab4-12c5-4910-9087-b7929fa7fde6\");\n    if (el != null) {\n      const html = (() => {\n        if (typeof root.Bokeh === \"undefined\") {\n          if (error == null) {\n            return \"BokehJS is loading ...\";\n          } else {\n            return \"BokehJS failed to load.\";\n          }\n        } else {\n          const prefix = `BokehJS ${root.Bokeh.version}`;\n          if (error == null) {\n            return `${prefix} successfully loaded.`;\n          } else {\n            return `${prefix} <b>encountered errors</b> while loading and may not function as expected.`;\n          }\n        }\n      })();\n      el.innerHTML = html;\n\n      if (error != null) {\n        const wrapper = document.createElement(\"div\");\n        wrapper.style.overflow = \"auto\";\n        wrapper.style.height = \"5em\";\n        wrapper.style.resize = \"vertical\";\n        const content = document.createElement(\"div\");\n        content.style.fontFamily = \"monospace\";\n        content.style.whiteSpace = \"pre-wrap\";\n        content.style.backgroundColor = \"rgb(255, 221, 221)\";\n        content.textContent = error.stack ?? error.toString();\n        wrapper.append(content);\n        el.append(wrapper);\n      }\n    } else if (Date.now() < root._bokeh_timeout) {\n      setTimeout(() => display_loaded(error), 100);\n    }\n  }\n\n  function run_callbacks() {\n    try {\n      root._bokeh_onload_callbacks.forEach(function(callback) {\n        if (callback != null)\n          callback();\n      });\n    } finally {\n      delete root._bokeh_onload_callbacks\n    }\n    console.debug(\"Bokeh: all callbacks have finished\");\n  }\n\n  function load_libs(css_urls, js_urls, callback) {\n    if (css_urls == null) css_urls = [];\n    if (js_urls == null) js_urls = [];\n\n    root._bokeh_onload_callbacks.push(callback);\n    if (root._bokeh_is_loading > 0) {\n      console.debug(\"Bokeh: BokehJS is being loaded, scheduling callback at\", now());\n      return null;\n    }\n    if (js_urls == null || js_urls.length === 0) {\n      run_callbacks();\n      return null;\n    }\n    console.debug(\"Bokeh: BokehJS not loaded, scheduling load and callback at\", now());\n    root._bokeh_is_loading = css_urls.length + js_urls.length;\n\n    function on_load() {\n      root._bokeh_is_loading--;\n      if (root._bokeh_is_loading === 0) {\n        console.debug(\"Bokeh: all BokehJS libraries/stylesheets loaded\");\n        run_callbacks()\n      }\n    }\n\n    function on_error(url) {\n      console.error(\"failed to load \" + url);\n    }\n\n    for (let i = 0; i < css_urls.length; i++) {\n      const url = css_urls[i];\n      const element = document.createElement(\"link\");\n      element.onload = on_load;\n      element.onerror = on_error.bind(null, url);\n      element.rel = \"stylesheet\";\n      element.type = \"text/css\";\n      element.href = url;\n      console.debug(\"Bokeh: injecting link tag for BokehJS stylesheet: \", url);\n      document.body.appendChild(element);\n    }\n\n    for (let i = 0; i < js_urls.length; i++) {\n      const url = js_urls[i];\n      const element = document.createElement('script');\n      element.onload = on_load;\n      element.onerror = on_error.bind(null, url);\n      element.async = false;\n      element.src = url;\n      console.debug(\"Bokeh: injecting script tag for BokehJS library: \", url);\n      document.head.appendChild(element);\n    }\n  };\n\n  function inject_raw_css(css) {\n    const element = document.createElement(\"style\");\n    element.appendChild(document.createTextNode(css));\n    document.body.appendChild(element);\n  }\n\n  const js_urls = [\"https://cdn.bokeh.org/bokeh/release/bokeh-3.6.3.min.js\", \"https://cdn.bokeh.org/bokeh/release/bokeh-gl-3.6.3.min.js\", \"https://cdn.bokeh.org/bokeh/release/bokeh-widgets-3.6.3.min.js\", \"https://cdn.bokeh.org/bokeh/release/bokeh-tables-3.6.3.min.js\", \"https://cdn.bokeh.org/bokeh/release/bokeh-mathjax-3.6.3.min.js\"];\n  const css_urls = [];\n\n  const inline_js = [    function(Bokeh) {\n      Bokeh.set_log_level(\"info\");\n    },\nfunction(Bokeh) {\n    }\n  ];\n\n  function run_inline_js() {\n    if (root.Bokeh !== undefined || force === true) {\n      try {\n            for (let i = 0; i < inline_js.length; i++) {\n      inline_js[i].call(root, root.Bokeh);\n    }\n\n      } catch (error) {display_loaded(error);throw error;\n      }if (force === true) {\n        display_loaded();\n      }} else if (Date.now() < root._bokeh_timeout) {\n      setTimeout(run_inline_js, 100);\n    } else if (!root._bokeh_failed_load) {\n      console.log(\"Bokeh: BokehJS failed to load within specified timeout.\");\n      root._bokeh_failed_load = true;\n    } else if (force !== true) {\n      const cell = $(document.getElementById(\"fa552ab4-12c5-4910-9087-b7929fa7fde6\")).parents('.cell').data().cell;\n      cell.output_area.append_execute_result(NB_LOAD_WARNING)\n    }\n  }\n\n  if (root._bokeh_is_loading === 0) {\n    console.debug(\"Bokeh: BokehJS loaded, going straight to plotting\");\n    run_inline_js();\n  } else {\n    load_libs(css_urls, js_urls, function() {\n      console.debug(\"Bokeh: BokehJS plotting callback run at\", now());\n      run_inline_js();\n    });\n  }\n}(window));",
      "application/vnd.bokehjs_load.v0+json": ""
     },
     "metadata": {},
     "output_type": "display_data"
    },
    {
     "data": {
      "application/vnd.jupyter.widget-view+json": {
       "model_id": "5c82ba04f94d4c6f9b633169da8a9291",
       "version_major": 2,
       "version_minor": 0
      },
      "text/plain": [
       "BokehModel(render_bundle={'docs_json': {'c7b7de7d-316f-4ad5-bd51-24f11527d95a': {'version': '3.6.3', 'title': …"
      ]
     },
     "metadata": {},
     "output_type": "display_data"
    }
   ],
   "source": [
    "build_project_treemap(target_metric='number_of_students_all_sum')"
   ]
  }
 ],
 "metadata": {
  "kernelspec": {
   "display_name": ".venv",
   "language": "python",
   "name": "python3"
  },
  "language_info": {
   "codemirror_mode": {
    "name": "ipython",
    "version": 3
   },
   "file_extension": ".py",
   "mimetype": "text/x-python",
   "name": "python",
   "nbconvert_exporter": "python",
   "pygments_lexer": "ipython3",
   "version": "3.12.7"
  }
 },
 "nbformat": 4,
 "nbformat_minor": 5
}
